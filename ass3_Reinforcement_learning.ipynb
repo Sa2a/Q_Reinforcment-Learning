{
 "cells": [
  {
   "cell_type": "code",
   "execution_count": 3,
   "metadata": {
    "colab": {
     "base_uri": "https://localhost:8080/"
    },
    "id": "6qEYrW_QQcsj",
    "outputId": "f8fd9b6a-554a-4e00-e182-96244e8fed8b"
   },
   "outputs": [
    {
     "name": "stdout",
     "output_type": "stream",
     "text": [
      "Collecting cmake\n",
      "  Downloading cmake-3.22.4-py2.py3-none-win_amd64.whl (38.1 MB)\n",
      "Collecting gym[atari]\n",
      "  Downloading gym-0.24.0.tar.gz (694 kB)\n",
      "  Installing build dependencies: started\n",
      "  Installing build dependencies: finished with status 'done'\n",
      "  Getting requirements to build wheel: started\n",
      "  Getting requirements to build wheel: finished with status 'done'\n",
      "    Preparing wheel metadata: started\n",
      "    Preparing wheel metadata: finished with status 'done'\n",
      "Requirement already satisfied: scipy in c:\\users\\river\\anaconda3\\lib\\site-packages (1.6.2)\n",
      "Collecting importlib-metadata>=4.8.0\n",
      "  Downloading importlib_metadata-4.11.4-py3-none-any.whl (18 kB)\n",
      "Requirement already satisfied: cloudpickle>=1.2.0 in c:\\users\\river\\anaconda3\\lib\\site-packages (from gym[atari]) (1.6.0)\n",
      "Requirement already satisfied: numpy>=1.18.0 in c:\\users\\river\\anaconda3\\lib\\site-packages (from gym[atari]) (1.20.1)\n",
      "Collecting gym-notices>=0.0.4\n",
      "  Downloading gym_notices-0.0.6-py3-none-any.whl (2.7 kB)\n",
      "Collecting ale-py~=0.7.5\n",
      "  Downloading ale_py-0.7.5-cp38-cp38-win_amd64.whl (935 kB)\n",
      "Collecting importlib-resources\n",
      "  Downloading importlib_resources-5.7.1-py3-none-any.whl (28 kB)\n",
      "Requirement already satisfied: zipp>=0.5 in c:\\users\\river\\anaconda3\\lib\\site-packages (from importlib-metadata>=4.8.0->gym[atari]) (3.4.1)\n",
      "Building wheels for collected packages: gym\n",
      "  Building wheel for gym (PEP 517): started\n",
      "  Building wheel for gym (PEP 517): finished with status 'done'\n",
      "  Created wheel for gym: filename=gym-0.24.0-py3-none-any.whl size=790689 sha256=a8e3fc60dd6da66e2482b15100b4e02e678134dbf838215c289b26a87d5653b9\n",
      "  Stored in directory: c:\\users\\river\\appdata\\local\\pip\\cache\\wheels\\9b\\47\\57\\bc885affe6e76f253f44982605bc912d681e890e3ceaa74254\n",
      "Successfully built gym\n",
      "Installing collected packages: importlib-resources, importlib-metadata, gym-notices, gym, ale-py, cmake\n",
      "  Attempting uninstall: importlib-metadata\n",
      "    Found existing installation: importlib-metadata 3.10.0\n",
      "    Uninstalling importlib-metadata-3.10.0:\n",
      "      Successfully uninstalled importlib-metadata-3.10.0\n",
      "Successfully installed ale-py-0.7.5 cmake-3.22.4 gym-0.24.0 gym-notices-0.0.6 importlib-metadata-4.11.4 importlib-resources-5.7.1\n"
     ]
    }
   ],
   "source": [
    "!pip install cmake gym[atari] scipy"
   ]
  },
  {
   "cell_type": "code",
   "execution_count": 14,
   "metadata": {},
   "outputs": [
    {
     "name": "stdout",
     "output_type": "stream",
     "text": [
      "Requirement already satisfied: cmake in c:\\users\\river\\anaconda3\\lib\\site-packages (3.22.4)\n",
      "Requirement already satisfied: gym[toy_text] in c:\\users\\river\\anaconda3\\lib\\site-packages (0.24.0)\n",
      "Requirement already satisfied: scipy in c:\\users\\river\\anaconda3\\lib\\site-packages (1.6.2)\n",
      "Requirement already satisfied: gym-notices>=0.0.4 in c:\\users\\river\\anaconda3\\lib\\site-packages (from gym[toy_text]) (0.0.6)\n",
      "Requirement already satisfied: cloudpickle>=1.2.0 in c:\\users\\river\\anaconda3\\lib\\site-packages (from gym[toy_text]) (1.6.0)\n",
      "Requirement already satisfied: importlib-metadata>=4.8.0 in c:\\users\\river\\anaconda3\\lib\\site-packages (from gym[toy_text]) (4.11.4)\n",
      "Requirement already satisfied: numpy>=1.18.0 in c:\\users\\river\\anaconda3\\lib\\site-packages (from gym[toy_text]) (1.20.1)\n",
      "Collecting pygame==2.1.0\n",
      "  Downloading pygame-2.1.0-cp38-cp38-win_amd64.whl (4.8 MB)\n",
      "Requirement already satisfied: zipp>=0.5 in c:\\users\\river\\anaconda3\\lib\\site-packages (from importlib-metadata>=4.8.0->gym[toy_text]) (3.4.1)\n",
      "Installing collected packages: pygame\n",
      "Successfully installed pygame-2.1.0\n"
     ]
    }
   ],
   "source": [
    "!pip install cmake gym[toy_text] scipy"
   ]
  },
  {
   "cell_type": "code",
   "execution_count": 29,
   "metadata": {
    "colab": {
     "base_uri": "https://localhost:8080/"
    },
    "id": "MpvZYr7VQxRf",
    "outputId": "18d502ca-f2e8-4139-9dd1-a00a745fe0e2"
   },
   "outputs": [
    {
     "name": "stdout",
     "output_type": "stream",
     "text": [
      "Action Space Discrete(6)\n",
      "State Space Discrete(500)\n"
     ]
    }
   ],
   "source": [
    "import gym\n",
    "\n",
    "env = gym.make(\"Taxi-v3\").env\n",
    "\n",
    "env.render()\n",
    "\n",
    "env.reset() # reset environment to a new, random state\n",
    "env.render()\n",
    "\n",
    "print(\"Action Space {}\".format(env.action_space))\n",
    "print(\"State Space {}\".format(env.observation_space))"
   ]
  },
  {
   "cell_type": "code",
   "execution_count": 30,
   "metadata": {
    "colab": {
     "base_uri": "https://localhost:8080/"
    },
    "id": "CQYro0AORE9d",
    "outputId": "53ecaf06-7c4b-48a0-d108-05a11c7376e6"
   },
   "outputs": [
    {
     "name": "stdout",
     "output_type": "stream",
     "text": [
      "State: 332\n"
     ]
    }
   ],
   "source": [
    "# Back to our illustration\n",
    "state = env.encode(3, 1, 3, 0) # (taxi row, taxi column, passenger index, destination index)\n",
    "print(\"State:\", state)\n",
    "\n",
    "env.s = state\n",
    "env.render()"
   ]
  },
  {
   "cell_type": "code",
   "execution_count": 31,
   "metadata": {
    "colab": {
     "base_uri": "https://localhost:8080/"
    },
    "id": "pUknzEHlRfpo",
    "outputId": "6d6f46ea-5114-4784-8cc3-ddc8de79efa6"
   },
   "outputs": [
    {
     "data": {
      "text/plain": [
       "{0: [(1.0, 428, -1, False)],\n",
       " 1: [(1.0, 228, -1, False)],\n",
       " 2: [(1.0, 348, -1, False)],\n",
       " 3: [(1.0, 328, -1, False)],\n",
       " 4: [(1.0, 328, -10, False)],\n",
       " 5: [(1.0, 328, -10, False)]}"
      ]
     },
     "execution_count": 31,
     "metadata": {},
     "output_type": "execute_result"
    }
   ],
   "source": [
    "# Dictionary structure: {action: [(probability, nextstate, reward, done)]}\n",
    "env.P[328]"
   ]
  },
  {
   "cell_type": "code",
   "execution_count": 32,
   "metadata": {
    "colab": {
     "base_uri": "https://localhost:8080/"
    },
    "id": "IlvA42cHTq9q",
    "outputId": "868eb920-0569-4254-9053-0c1200a23fed"
   },
   "outputs": [
    {
     "name": "stdout",
     "output_type": "stream",
     "text": [
      "0\n"
     ]
    },
    {
     "data": {
      "text/plain": [
       "(106, -1, False, {'prob': 1.0})"
      ]
     },
     "execution_count": 32,
     "metadata": {},
     "output_type": "execute_result"
    }
   ],
   "source": [
    "action = env.action_space.sample()\n",
    "print(action)\n",
    "env.step(action)"
   ]
  },
  {
   "cell_type": "code",
   "execution_count": 10,
   "metadata": {
    "colab": {
     "base_uri": "https://localhost:8080/"
    },
    "id": "VlXKhFmHTIWI",
    "outputId": "2506fbd8-d0d6-4caf-90a7-df0d92de107d"
   },
   "outputs": [
    {
     "name": "stdout",
     "output_type": "stream",
     "text": [
      "Timesteps taken: 10078\n",
      "Penalties incurred: 3198\n"
     ]
    }
   ],
   "source": [
    "# Using p table for default rewards\n",
    "env.s = 328  # set environment to illustration's state\n",
    "\n",
    "epochs = 0\n",
    "penalties, reward = 0, 0\n",
    "\n",
    "frames = [] # for animation\n",
    "\n",
    "done = False\n",
    "\n",
    "while not done:\n",
    "  # automatically selects one random action \n",
    "    action = env.action_space.sample()\n",
    "    state, reward, done, info = env.step(action)\n",
    "\n",
    "    if reward == -10:\n",
    "        penalties += 1\n",
    "    \n",
    "    # Put each rendered frame into dict for animation\n",
    "    frames.append({\n",
    "        'frame': env.render(mode='ansi'),\n",
    "        'state': state,\n",
    "        'action': action,\n",
    "        'reward': reward\n",
    "        }\n",
    "    )\n",
    "\n",
    "    epochs += 1\n",
    "    \n",
    "    \n",
    "print(\"Timesteps taken: {}\".format(epochs))\n",
    "print(\"Penalties incurred: {}\".format(penalties))"
   ]
  },
  {
   "cell_type": "code",
   "execution_count": 33,
   "metadata": {},
   "outputs": [],
   "source": [
    "from IPython.display import clear_output\n",
    "from time import sleep\n",
    "import random\n",
    "from IPython.display import clear_output\n",
    "# Implement Q-Learning\n",
    "import numpy as np"
   ]
  },
  {
   "cell_type": "code",
   "execution_count": null,
   "metadata": {
    "colab": {
     "base_uri": "https://localhost:8080/",
     "height": 200
    },
    "id": "FN8Fcuo_iH6A",
    "outputId": "48e413bb-2c52-48f6-f86d-43b5816c771c"
   },
   "outputs": [],
   "source": [
    "\n",
    "\n",
    "def print_frames(frames):\n",
    "    for i, frame in enumerate(frames):\n",
    "        clear_output(wait=True)\n",
    "        #print(frame['frame'].getvalue())\n",
    "        print(frame['frame'])\n",
    "        print(f\"Timestep: {i + 1}\")\n",
    "        print(f\"State: {frame['state']}\")\n",
    "        print(f\"Action: {frame['action']}\")\n",
    "        print(f\"Reward: {frame['reward']}\")\n",
    "        sleep(.1)\n",
    "        \n",
    "print_frames(frames)\n"
   ]
  },
  {
   "cell_type": "markdown",
   "metadata": {},
   "source": [
    "# Q RL training function"
   ]
  },
  {
   "cell_type": "code",
   "execution_count": 56,
   "metadata": {},
   "outputs": [],
   "source": [
    "\n",
    "def Q_RL_trainig(hyperparameters, env, num_episodes = 100000):\n",
    "    q_table = np.zeros([env.observation_space.n, env.action_space.n])\n",
    "    alpha = hyperparameters[0]\n",
    "    gamma = hyperparameters[1]\n",
    "    epsilon = hyperparameters[2]\n",
    "    total_epochs, total_penalties = 0, 0\n",
    "    for i in range(num_episodes+1):     \n",
    "        state = env.reset()\n",
    "\n",
    "        epochs, penalties, reward, = 0, 0, 0\n",
    "        done = False\n",
    "\n",
    "        while not done:\n",
    "            if random.uniform(0, 1) < epsilon:\n",
    "                action = env.action_space.sample() # Explore action space\n",
    "            else:\n",
    "                action = np.argmax(q_table[state]) # Exploit learned values\n",
    "\n",
    "            next_state, reward, done, info = env.step(action) \n",
    "\n",
    "            old_value = q_table[state, action]\n",
    "            next_max = np.max(q_table[next_state])\n",
    "\n",
    "            new_value = (1 - alpha) * old_value + alpha * (reward + gamma * next_max)\n",
    "            q_table[state, action] = new_value\n",
    "\n",
    "            if reward == -10:\n",
    "                penalties += 1\n",
    "\n",
    "            state = next_state\n",
    "            epochs += 1\n",
    "        total_penalties += penalties\n",
    "        total_epochs += epochs\n",
    "\n",
    "        if i % 100 == 0:\n",
    "            clear_output(wait=True)\n",
    "            print(f\"Episode: {i}\")\n",
    "    return q_table, (total_epochs+total_penalties)/100000"
   ]
  },
  {
   "cell_type": "code",
   "execution_count": 57,
   "metadata": {},
   "outputs": [
    {
     "name": "stdout",
     "output_type": "stream",
     "text": [
      "Episode: 100000\n"
     ]
    }
   ],
   "source": [
    "alpha = 0.1\n",
    "gamma = 0.6\n",
    "epsilon = 0.1\n",
    "q_table, metrics = Q_RL_trainig((alpha,gamma,epsilon),env)"
   ]
  },
  {
   "cell_type": "code",
   "execution_count": 59,
   "metadata": {},
   "outputs": [
    {
     "data": {
      "text/plain": [
       "16.43208"
      ]
     },
     "execution_count": 59,
     "metadata": {},
     "output_type": "execute_result"
    }
   ],
   "source": [
    "metrics\n"
   ]
  },
  {
   "cell_type": "markdown",
   "metadata": {},
   "source": [
    "# Q RL Evaluation function"
   ]
  },
  {
   "cell_type": "code",
   "execution_count": 43,
   "metadata": {
    "colab": {
     "base_uri": "https://localhost:8080/"
    },
    "id": "JUubBIXWhJcg",
    "outputId": "e69b5c84-e606-436a-cb93-1618eca9138c"
   },
   "outputs": [],
   "source": [
    "\n",
    "# Evaluation\n",
    "\"\"\"Evaluate agent's performance after Q-learning\"\"\"\n",
    "def Q_RL_evaluation(q_table,env,episodes = 100):\n",
    "    total_epochs, total_penalties = 0, 0\n",
    "\n",
    "    for _ in range(episodes+1):\n",
    "        state = env.reset()\n",
    "        epochs, penalties, reward = 0, 0, 0\n",
    "\n",
    "        done = False\n",
    "\n",
    "        while not done:\n",
    "            action = np.argmax(q_table[state])\n",
    "            state, reward, done, info = env.step(action)\n",
    "            clear_output(wait=True)\n",
    "            #print(frame['frame'].getvalue())\n",
    "            print(env.render(mode='ansi'))\n",
    "            print(f\"Timestep: {epochs + 1}\")\n",
    "            print(f\"State: {state}\")\n",
    "            print(f\"Action: {action}\")\n",
    "            print(f\"Reward: {reward}\")\n",
    "\n",
    "            if reward == -10:\n",
    "                penalties += 1\n",
    "            epochs += 1\n",
    "        total_penalties += penalties\n",
    "        total_epochs += epochs\n",
    "        sleep(.1)\n",
    "\n",
    "\n",
    "    print(f\"Results after {episodes} episodes:\")\n",
    "    print(f\"Average timesteps per episode: {total_epochs / episodes}\")\n",
    "    print(f\"Average penalties per episode: {total_penalties / episodes}\")\n"
   ]
  },
  {
   "cell_type": "code",
   "execution_count": 44,
   "metadata": {},
   "outputs": [
    {
     "name": "stdout",
     "output_type": "stream",
     "text": [
      "+---------+\n",
      "|R: | : :\u001b[35m\u001b[34;1m\u001b[43mG\u001b[0m\u001b[0m\u001b[0m|\n",
      "| : | : : |\n",
      "| : : : : |\n",
      "| | : | : |\n",
      "|Y| : |B: |\n",
      "+---------+\n",
      "  (Dropoff)\n",
      "\n",
      "Timestep: 14\n",
      "State: 85\n",
      "Action: 5\n",
      "Reward: 20\n",
      "Results after 100 episodes:\n",
      "Average timesteps per episode: 13.12\n",
      "Average penalties per episode: 0.0\n"
     ]
    }
   ],
   "source": [
    "Q_RL_evaluation(q_table,env)"
   ]
  },
  {
   "cell_type": "markdown",
   "metadata": {
    "id": "asacRjqrlRJ5"
   },
   "source": [
    "## **Tune alpha, gamma, and/or epsilon using a decay over episodes**"
   ]
  },
  {
   "cell_type": "code",
   "execution_count": 71,
   "metadata": {
    "id": "hSalu_aWisJA"
   },
   "outputs": [],
   "source": [
    "\n",
    "# importing the required module\n",
    "import matplotlib.pyplot as plt\n",
    "  \n",
    "def tune_alph_gamma_epsilon(alpha_tune, gamma_tune, epsilon_tune ,num_of_iterations = 100000):\n",
    "    b_alpha = alpha_tune/num_of_iterations\n",
    "    b_gamma = gamma_tune/num_of_iterations\n",
    "    b_epsilon = epsilon_tune/num_of_iterations\n",
    "\n",
    "    alpha_values =[]\n",
    "    gamma_values =[]\n",
    "    epsilon_values =[]\n",
    "    X = []\n",
    "    for i in range(num_of_iterations+1):\n",
    "      # set the minimum to 0.001 and the maximum to 0.99\n",
    "      new_alpha = .999*(1-b_alpha)**i+.001\n",
    "      X.append(i)\n",
    "      alpha_values.append(new_alpha)\n",
    "      gamma_values.append(.999*(1-b_gamma)**i+.001)\n",
    "      epsilon_values.append(0.999*(1-b_epsilon)**i+.001)\n",
    "    # x axis values\n",
    "    x = X\n",
    "    # corresponding y axis values\n",
    "    y = alpha_values\n",
    "\n",
    "    # plotting the points \n",
    "    plt.plot(x, alpha_values ,label= \"alpha\")\n",
    "    plt.plot(x, gamma_values ,label= \"gamma\")\n",
    "    plt.plot(x, epsilon_values ,label= \"epsilon\")\n",
    "\n",
    "    # naming the x axis\n",
    "    plt.xlabel('number of iterations')\n",
    "    # naming the y axis\n",
    "    plt.ylabel('y')\n",
    "\n",
    "    # giving a title to my graph\n",
    "    plt.title('Exponential Decay')\n",
    "    plt.legend()\n",
    "    # function to show the plot\n",
    "    plt.show()\n",
    "    return alpha_values,gamma_values,epsilon_values"
   ]
  },
  {
   "cell_type": "code",
   "execution_count": 73,
   "metadata": {
    "colab": {
     "base_uri": "https://localhost:8080/",
     "height": 295
    },
    "id": "V6RuBrTYgrkJ",
    "outputId": "405c1e67-4224-41a8-9e9b-416ab1b3a953"
   },
   "outputs": [
    {
     "data": {
      "image/png": "[encoded data removed]",
      "text/plain": [
       "<Figure size 432x288 with 1 Axes>"
      ]
     },
     "metadata": {
      "needs_background": "light"
     },
     "output_type": "display_data"
    }
   ],
   "source": [
    "\n",
    "alpha_values,gamma_values,epsilon_values = tune_alph_gamma_epsilon(4,3,6)"
   ]
  },
  {
   "cell_type": "markdown",
   "metadata": {
    "id": "-vcXmpJnohVx"
   },
   "source": [
    "# Train with the exponential decay"
   ]
  },
  {
   "cell_type": "code",
   "execution_count": 60,
   "metadata": {},
   "outputs": [],
   "source": [
    "def Q_RL_train_exponential_decay(hyperparameters, env, num_episodes = 100000):\n",
    "    q_table = np.zeros([env.observation_space.n, env.action_space.n])\n",
    "    total_epochs, total_penalties = 0, 0\n",
    "    for i in range(100001):\n",
    "      # Hyperparameters\n",
    "        alpha = hyperparameters[i][0]\n",
    "        gamma = hyperparameters[i][1]\n",
    "        epsilon = hyperparameters[i][2]\n",
    "        state = env.reset()\n",
    "\n",
    "        epochs, penalties, reward, = 0, 0, 0\n",
    "        done = False\n",
    "\n",
    "        while not done:\n",
    "            if random.uniform(0, 1) < epsilon:\n",
    "                action = env.action_space.sample() # Explore action space\n",
    "            else:\n",
    "                action = np.argmax(q_table[state]) # Exploit learned values\n",
    "\n",
    "            next_state, reward, done, info = env.step(action) \n",
    "\n",
    "            old_value = q_table[state, action]\n",
    "            next_max = np.max(q_table[next_state])\n",
    "\n",
    "            new_value = (1 - alpha) * old_value + alpha * (reward + gamma * next_max)\n",
    "            q_table[state, action] = new_value\n",
    "\n",
    "            if reward == -10:\n",
    "                penalties += 1\n",
    "\n",
    "            state = next_state\n",
    "            epochs += 1\n",
    "            total_penalties += penalties\n",
    "            total_epochs += epochs\n",
    "\n",
    "            if i % 100 == 0:\n",
    "                clear_output(wait=True)\n",
    "                print(f\"Episode: {i}\")\n",
    "    print(\"finished\")\n",
    "    return q_table,(total_epochs+total_penalties)/100000\n"
   ]
  },
  {
   "cell_type": "code",
   "execution_count": 66,
   "metadata": {},
   "outputs": [
    {
     "name": "stdout",
     "output_type": "stream",
     "text": [
      "[[1.         1.         1.        ]\n",
      " [0.99996004 0.99997003 0.99994006]\n",
      " [0.99992008 0.99994006 0.99988012]\n",
      " ...\n",
      " [0.01929732 0.05073803 0.00347612]\n",
      " [0.01929659 0.05073654 0.00347598]\n",
      " [0.01929586 0.05073504 0.00347583]]\n"
     ]
    }
   ],
   "source": [
    "alist = [alpha_values, gamma_values, epsilon_values]\n",
    "hyperparemeters = np.column_stack(alist)\n",
    "print(hyperparemeters)"
   ]
  },
  {
   "cell_type": "code",
   "execution_count": 67,
   "metadata": {
    "colab": {
     "base_uri": "https://localhost:8080/"
    },
    "id": "2UJNBTp-j3I5",
    "outputId": "ee8b4079-346d-4d4f-89e4-c53140ef4152"
   },
   "outputs": [
    {
     "name": "stdout",
     "output_type": "stream",
     "text": [
      "Episode: 100000\n",
      "finished\n",
      "14322.00289\n"
     ]
    }
   ],
   "source": [
    "\n",
    "q_table2 , metric2 = Q_RL_train_exponential_decay(hyperparemeters, env)\n",
    "print(metric2)"
   ]
  },
  {
   "cell_type": "code",
   "execution_count": 68,
   "metadata": {},
   "outputs": [
    {
     "name": "stdout",
     "output_type": "stream",
     "text": [
      "+---------+\n",
      "|R: | : :\u001b[35m\u001b[34;1m\u001b[43mG\u001b[0m\u001b[0m\u001b[0m|\n",
      "| : | : : |\n",
      "| : : : : |\n",
      "| | : | : |\n",
      "|Y| : |B: |\n",
      "+---------+\n",
      "  (Dropoff)\n",
      "\n",
      "Timestep: 14\n",
      "State: 85\n",
      "Action: 5\n",
      "Reward: 20\n",
      "Results after 100 episodes:\n",
      "Average timesteps per episode: 13.24\n",
      "Average penalties per episode: 0.0\n"
     ]
    }
   ],
   "source": [
    "print(metric2)\n",
    "Q_RL_evaluation(q_table2,env)"
   ]
  },
  {
   "cell_type": "markdown",
   "metadata": {
    "id": "x1OfA0R9_o71"
   },
   "source": [
    "# Find the best hyperparemeter values using the genetic algorithms instead of grid search"
   ]
  },
  {
   "cell_type": "code",
   "execution_count": null,
   "metadata": {},
   "outputs": [],
   "source": [
    "from scipy.optimize import differential_evolution\n",
    "\n",
    "alpha_lim = (0.1,1)\n",
    "gamma_lim = (0.1,1)\n",
    "epsilon_lim = (0.1,1)\n",
    "boundaries = [alpha_lim] + [gamma_lim]+ [epsilon_lim]\n",
    "\n",
    "solver = differential_evolution(RL_trainig, boundaries,strategy='best1bin',\n",
    "                                    popsize=3,mutation=0.5,recombination=0.7,tol=0.01,seed=2020)"
   ]
  },
  {
   "cell_type": "code",
   "execution_count": null,
   "metadata": {},
   "outputs": [],
   "source": [
    "print(solver)\n",
    "best_hyperparams = solver.x\n",
    "best_timestamp = solver.fun\n",
    "# Print final results\n",
    "print(\"Converged hyperparameters: alpha= %.6f, gamma= %.6f, epsilon= %.6f\" %(best_hyperparams[0],best_hyperparams[1],best_hyperparams[]))    \n",
    "print(\"Average timesteps per epochs: %.6f\" %(best_timestamp))"
   ]
  }
 ],
 "metadata": {
  "colab": {
   "collapsed_sections": [],
   "name": "ass3 Reinforcement learning.ipynb",
   "provenance": [],
   "toc_visible": true
  },
  "kernelspec": {
   "display_name": "Python 3",
   "language": "python",
   "name": "python3"
  }
 },
 "nbformat": 4,
 "nbformat_minor": 1
}
